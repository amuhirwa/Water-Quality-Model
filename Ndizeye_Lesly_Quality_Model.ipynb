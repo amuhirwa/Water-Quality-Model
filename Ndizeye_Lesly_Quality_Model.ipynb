{
  "nbformat": 4,
  "nbformat_minor": 0,
  "metadata": {
    "colab": {
      "provenance": [],
      "authorship_tag": "ABX9TyOjjLIzIlFwC3r/FDtsJ6cZ",
      "include_colab_link": true
    },
    "kernelspec": {
      "name": "python3",
      "display_name": "Python 3"
    },
    "language_info": {
      "name": "python"
    }
  },
  "cells": [
    {
      "cell_type": "markdown",
      "metadata": {
        "id": "view-in-github",
        "colab_type": "text"
      },
      "source": [
        "<a href=\"https://colab.research.google.com/github/amuhirwa/Water-Quality-Model/blob/main/Ndizeye_Lesly_Quality_Model.ipynb\" target=\"_parent\"><img src=\"https://colab.research.google.com/assets/colab-badge.svg\" alt=\"Open In Colab\"/></a>"
      ]
    },
    {
      "cell_type": "code",
      "execution_count": 18,
      "metadata": {
        "id": "t70GvMJdzk7X"
      },
      "outputs": [],
      "source": [
        "#imports\n",
        "import kagglehub\n",
        "import pandas as pd\n",
        "import numpy as np\n",
        "import matplotlib.pyplot as plt\n",
        "import tensorflow as tf\n",
        "from sklearn.model_selection import train_test_split\n",
        "from sklearn.impute import SimpleImputer\n",
        "from sklearn.preprocessing import StandardScaler\n",
        "from sklearn.metrics import accuracy_score, f1_score, recall_score, precision_score\n",
        "from tensorflow.keras.models import Sequential\n",
        "from tensorflow.keras.layers import Dense, Dropout\n",
        "from tensorflow.keras.regularizers import l2\n",
        "from tensorflow.keras.optimizers import AdamW\n",
        "from tensorflow.keras.callbacks import EarlyStopping"
      ]
    },
    {
      "cell_type": "code",
      "source": [
        "# 1. Load the data\n",
        "path = kagglehub.dataset_download(\"uom190346a/water-quality-and-potability\")\n",
        "df = pd.read_csv(f\"{path}/water_potability.csv\")"
      ],
      "metadata": {
        "id": "Fd7airavz622"
      },
      "execution_count": 19,
      "outputs": []
    },
    {
      "cell_type": "markdown",
      "source": [
        "Plot the Data Appropriately"
      ],
      "metadata": {
        "id": "tW4XpTjL2Lfa"
      }
    },
    {
      "cell_type": "code",
      "source": [
        "# 2. Handle missing values with (mean imputation)\n",
        "imputer = SimpleImputer(strategy='mean')\n",
        "df_imputed = pd.DataFrame(imputer.fit_transform(df), columns=df.columns)"
      ],
      "metadata": {
        "id": "3bn5eC48z92-"
      },
      "execution_count": 20,
      "outputs": []
    },
    {
      "cell_type": "markdown",
      "source": [
        "Split features"
      ],
      "metadata": {
        "id": "tuU27G2e2hVh"
      }
    },
    {
      "cell_type": "code",
      "source": [
        "# 3. Split features and target\n",
        "X = df_imputed.drop(\"Potability\", axis=1)\n",
        "y = df_imputed[\"Potability\"]"
      ],
      "metadata": {
        "id": "rE--x4wR0Cva"
      },
      "execution_count": 21,
      "outputs": []
    },
    {
      "cell_type": "code",
      "source": [
        "# 4. Train-test split\n",
        "X_train, X_test, y_train, y_test = train_test_split(X, y, test_size=0.2, stratify=y, random_state=72)"
      ],
      "metadata": {
        "id": "G6hsAc9x003E"
      },
      "execution_count": 22,
      "outputs": []
    },
    {
      "cell_type": "code",
      "source": [
        "from sklearn.preprocessing import StandardScaler\n",
        "\n",
        "scaler = StandardScaler()\n",
        "\n",
        "X_train_scaled = scaler.fit_transform(X_train)\n",
        "X_test_scaled = scaler.transform(X_test)"
      ],
      "metadata": {
        "id": "jZsNz6ke0G2x"
      },
      "execution_count": 23,
      "outputs": []
    },
    {
      "cell_type": "markdown",
      "source": [
        "# Each Memeber Defines their model Here"
      ],
      "metadata": {
        "id": "QPoepL5e2_4_"
      }
    },
    {
      "cell_type": "code",
      "source": [
        "def model_lesly():\n",
        "    model = Sequential([\n",
        "        Dense(96, input_shape=(9,), activation='relu', kernel_regularizer=l2(0.005)),\n",
        "        Dropout(0.4),\n",
        "        Dense(48, activation='relu', kernel_regularizer=l2(0.005)),\n",
        "        Dropout(0.3),\n",
        "        Dense(24, activation='relu'),\n",
        "        Dense(1, activation='sigmoid')\n",
        "    ])\n",
        "\n",
        "    model.compile(\n",
        "        optimizer=AdamW(learning_rate=0.003),\n",
        "        loss='binary_crossentropy',\n",
        "        metrics=['accuracy']\n",
        "    )\n",
        "    return model"
      ],
      "metadata": {
        "id": "_Nzk1NOr0Npo"
      },
      "execution_count": 24,
      "outputs": []
    },
    {
      "cell_type": "markdown",
      "source": [
        "# Start the training Process"
      ],
      "metadata": {
        "id": "rfs7zUKG3u0N"
      }
    },
    {
      "cell_type": "code",
      "source": [
        "\n",
        "from tensorflow.keras.callbacks import EarlyStopping\n",
        "\n",
        "es = EarlyStopping(\n",
        "    monitor='val_accuracy',\n",
        "    patience=8,\n",
        "    restore_best_weights=True\n",
        ")\n",
        "\n",
        "model = model_lesly()\n",
        "history = model.fit(\n",
        "    X_train_scaled, y_train,\n",
        "    epochs=4000,\n",
        "    batch_size=64,\n",
        "    validation_split=0.2,\n",
        "    callbacks=[es],\n",
        "    verbose=0\n",
        ")\n",
        "\n",
        "# evaluating the model\n",
        "_, train_acc = model.evaluate(X_train_scaled, y_train, verbose=0)\n",
        "_, test_acc = model.evaluate(X_test_scaled, y_test, verbose=0)\n",
        "print('Train: %.3f, Test: %.3f' % (train_acc, test_acc))\n",
        "\n",
        "# plot training history\n",
        "print(history.history['accuracy'])\n",
        "plt.plot(history.history['loss'], label='train')\n",
        "plt.plot(history.history['val_loss'], label='test')\n",
        "plt.legend()\n",
        "plt.show()\n",
        "\n",
        "y_pred_nn = model.predict(X_test_scaled)\n",
        "y_pred_classes = (y_pred_nn > 0.5).astype(int)\n",
        "\n",
        "from sklearn.metrics import accuracy_score, f1_score, precision_score, recall_score\n",
        "\n",
        "acc = accuracy_score(y_test, y_pred_classes)\n",
        "f1 = f1_score(y_test, y_pred_classes)\n",
        "precision = precision_score(y_test, y_pred_classes)\n",
        "recall = recall_score(y_test, y_pred_classes)\n",
        "\n",
        "# summary viewer\n",
        "print(f\"Accuracy: {acc:.4f}\")\n",
        "print(f\"F1 Score: {f1:.4f}\")\n",
        "print(f\"Precision: {precision:.4f}\")\n",
        "print(f\"Recall: {recall:.4f}\")"
      ],
      "metadata": {
        "colab": {
          "base_uri": "https://localhost:8080/",
          "height": 610
        },
        "id": "oB1FsqTj0VNq",
        "outputId": "74bffe92-8845-4647-dd02-3438ad93d7d6"
      },
      "execution_count": 34,
      "outputs": [
        {
          "output_type": "stream",
          "name": "stderr",
          "text": [
            "/usr/local/lib/python3.11/dist-packages/keras/src/layers/core/dense.py:87: UserWarning: Do not pass an `input_shape`/`input_dim` argument to a layer. When using Sequential models, prefer using an `Input(shape)` object as the first layer in the model instead.\n",
            "  super().__init__(activity_regularizer=activity_regularizer, **kwargs)\n"
          ]
        },
        {
          "output_type": "stream",
          "name": "stdout",
          "text": [
            "Train: 0.676, Test: 0.678\n",
            "[0.5939885377883911, 0.6164122223854065, 0.6254770755767822, 0.6440839767456055, 0.6655534505844116, 0.6674618124961853, 0.6693702340126038, 0.6717557311058044, 0.6684160232543945, 0.6679389476776123, 0.6789122223854065, 0.6855915784835815, 0.6688931584358215, 0.6731870174407959, 0.6731870174407959]\n"
          ]
        },
        {
          "output_type": "display_data",
          "data": {
            "text/plain": [
              "<Figure size 640x480 with 1 Axes>"
            ],
            "image/png": "[encoded data removed]"
          },
          "metadata": {}
        },
        {
          "output_type": "stream",
          "name": "stdout",
          "text": [
            "\u001b[1m21/21\u001b[0m \u001b[32m━━━━━━━━━━━━━━━━━━━━\u001b[0m\u001b[37m\u001b[0m \u001b[1m0s\u001b[0m 7ms/step\n",
            "Accuracy: 0.6784\n",
            "F1 Score: 0.4433\n",
            "Precision: 0.6829\n",
            "Recall: 0.3281\n"
          ]
        }
      ]
    }
  ]
}