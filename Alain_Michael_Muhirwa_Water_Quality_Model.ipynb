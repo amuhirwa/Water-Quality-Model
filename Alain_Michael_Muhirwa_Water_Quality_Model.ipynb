{
  "cells": [
    {
      "cell_type": "markdown",
      "metadata": {
        "id": "hrXv0rU9sIma"
      },
      "source": [
        "# Exercise - Creating our own custom Model"
      ]
    },
    {
      "cell_type": "markdown",
      "metadata": {
        "id": "iJyZUDbzBTIG"
      },
      "source": [
        "This is a notebook that provides a quick overview of how to create your own custom model. You will be creating a simple model.\n",
        "You will be utilizing Keras and Tensorflow\n"
      ]
    },
    {
      "cell_type": "code",
      "execution_count": null,
      "metadata": {
        "id": "UlrIvKFph99Y"
      },
      "outputs": [],
      "source": [
        "# Imports\n",
        "import kagglehub\n",
        "import pandas as pd\n",
        "import tensorflow as tf\n",
        "from tensorflow.keras.models import Sequential\n",
        "from tensorflow.keras.layers import Input, Dense, BatchNormalization, Dropout\n",
        "from tensorflow.keras.optimizers import Adam, Adadelta, RMSprop, Ftrl, SGD\n",
        "from tensorflow.keras.regularizers import l2, l1_l2, l1\n",
        "from tensorflow.keras.models import Model\n",
        "from sklearn.metrics import classification_report, f1_score, recall_score, precision_score\n",
        "from sklearn.model_selection import train_test_split\n",
        "from sklearn.impute import SimpleImputer\n",
        "from sklearn.preprocessing import StandardScaler\n",
        "import matplotlib.pyplot as plt"
      ]
    },
    {
      "cell_type": "code",
      "execution_count": null,
      "metadata": {
        "id": "Qvnx0_dT3JEq"
      },
      "outputs": [],
      "source": [
        "# 1. Load the data\n",
        "path = kagglehub.dataset_download(\"uom190346a/water-quality-and-potability\")\n",
        "df = pd.read_csv(f\"{path}/water_potability.csv\")"
      ]
    },
    {
      "cell_type": "markdown",
      "metadata": {
        "id": "2QfR0r8cGVU7"
      },
      "source": [
        "Plot the Data Appropriately"
      ]
    },
    {
      "cell_type": "code",
      "execution_count": null,
      "metadata": {
        "id": "ADVTuPWsl3lW"
      },
      "outputs": [],
      "source": [
        "# 2. Handle missing values with (mean imputation)\n",
        "imputer = SimpleImputer(strategy='mean')\n",
        "df_imputed = pd.DataFrame(imputer.fit_transform(df), columns=df.columns)"
      ]
    },
    {
      "cell_type": "code",
      "execution_count": null,
      "metadata": {
        "id": "PF9lHguSY2vB"
      },
      "outputs": [],
      "source": [
        "# 3. Split features and target\n",
        "X = df_imputed.drop(\"Potability\", axis=1)\n",
        "y = df_imputed[\"Potability\"]"
      ]
    },
    {
      "cell_type": "code",
      "execution_count": null,
      "metadata": {
        "id": "wfSk1lXRYjrh"
      },
      "outputs": [],
      "source": [
        "# 4. Train-test split\n",
        "X_train, X_test, y_train, y_test = train_test_split(X, y, test_size=0.2, stratify=y, random_state=72)"
      ]
    },
    {
      "cell_type": "code",
      "execution_count": null,
      "metadata": {
        "id": "eaKWdh2slqCT"
      },
      "outputs": [],
      "source": [
        "from sklearn.preprocessing import StandardScaler\n",
        "\n",
        "scaler = StandardScaler()\n",
        "\n",
        "X_train_scaled = scaler.fit_transform(X_train)\n",
        "X_test_scaled = scaler.transform(X_test)"
      ]
    },
    {
      "cell_type": "markdown",
      "metadata": {
        "id": "LvjIHLrcGhzc"
      },
      "source": [
        "# Each Memeber Defines their model Here"
      ]
    },
    {
      "cell_type": "code",
      "execution_count": null,
      "metadata": {
        "id": "FLwYoJG9jvDa"
      },
      "outputs": [],
      "source": [
        "#Model Definition by member 1\n",
        "def model_michael():\n",
        "  model = Sequential([\n",
        "      Dense(128, input_shape=(9,), activation='relu', kernel_regularizer=l1_l2(0.001)),\n",
        "      Dropout(0.2),\n",
        "      Dense(64, activation='relu', kernel_regularizer=l1_l2(0.001)),\n",
        "      Dropout(0.2),\n",
        "      Dense(1, activation='sigmoid', kernel_regularizer=l1_l2(0.001))\n",
        "  ])\n",
        "\n",
        "  model.compile(\n",
        "      optimizer=Adam(learning_rate=0.002),\n",
        "      loss='binary_crossentropy',\n",
        "      metrics=['accuracy']\n",
        "  )\n",
        "  return model"
      ]
    },
    {
      "cell_type": "markdown",
      "metadata": {
        "id": "hDSPmAB9jkrG"
      },
      "source": [
        "# Start the training Process"
      ]
    },
    {
      "cell_type": "code",
      "execution_count": null,
      "metadata": {
        "colab": {
          "base_uri": "https://localhost:8080/",
          "height": 606
        },
        "id": "OWQHapf3jlYH",
        "outputId": "e77c3072-8150-4aa6-9290-ffc65a572309"
      },
      "outputs": [
        {
          "output_type": "stream",
          "name": "stderr",
          "text": [
            "/usr/local/lib/python3.11/dist-packages/keras/src/layers/core/dense.py:87: UserWarning: Do not pass an `input_shape`/`input_dim` argument to a layer. When using Sequential models, prefer using an `Input(shape)` object as the first layer in the model instead.\n",
            "  super().__init__(activity_regularizer=activity_regularizer, **kwargs)\n"
          ]
        },
        {
          "output_type": "stream",
          "name": "stdout",
          "text": [
            "Train: 0.677, Test: 0.686\n",
            "[0.6187977194786072, 0.6483778357505798, 0.6650763154029846, 0.6665076613426208, 0.6765267252922058, 0.6750954389572144, 0.6736640930175781, 0.6655534505844116, 0.6612595319747925, 0.6688931584358215, 0.6679389476776123, 0.6741412281990051, 0.6812977194786072, 0.6731870174407959]\n"
          ]
        },
        {
          "output_type": "display_data",
          "data": {
            "text/plain": [
              "<Figure size 640x480 with 1 Axes>"
            ],
            "image/png": "[encoded data removed]"
          },
          "metadata": {}
        },
        {
          "output_type": "stream",
          "name": "stdout",
          "text": [
            "\u001b[1m21/21\u001b[0m \u001b[32m━━━━━━━━━━━━━━━━━━━━\u001b[0m\u001b[37m\u001b[0m \u001b[1m0s\u001b[0m 4ms/step\n",
            "Accuracy: 0.6860\n",
            "F1 Score: 0.4213\n",
            "Precision: 0.7500\n",
            "Recall: 0.2930\n"
          ]
        }
      ],
      "source": [
        "# Reuse this codeif necessary\n",
        "#fit model\n",
        "from tensorflow.keras.callbacks import EarlyStopping\n",
        "\n",
        "es = EarlyStopping(\n",
        "    monitor='val_accuracy',\n",
        "    patience=10,\n",
        "    restore_best_weights=True\n",
        ")\n",
        "\n",
        "\n",
        "model = model_michael()\n",
        "history = model.fit(\n",
        "    X_train_scaled, y_train,\n",
        "    epochs=4000,\n",
        "    batch_size=32,\n",
        "    validation_split=0.2,\n",
        "    callbacks=[es],\n",
        "    verbose=0\n",
        ")\n",
        "# evaluate the model\n",
        "_, train_acc = model.evaluate(X_train_scaled, y_train, verbose=0)\n",
        "_, test_acc = model.evaluate(X_test_scaled, y_test, verbose=0)\n",
        "print('Train: %.3f, Test: %.3f' % (train_acc, test_acc))\n",
        "# plot training history\n",
        "print(history.history['accuracy'])\n",
        "plt.plot(history.history['loss'], label='train')\n",
        "plt.plot(history.history['val_loss'], label='test')\n",
        "plt.legend()\n",
        "plt.show()\n",
        "\n",
        "y_pred_nn = model.predict(X_test_scaled)\n",
        "y_pred_classes = (y_pred_nn > 0.5).astype(int)\n",
        "\n",
        "from sklearn.metrics import accuracy_score, f1_score, precision_score, recall_score\n",
        "\n",
        "acc = accuracy_score(y_test, y_pred_classes)\n",
        "f1 = f1_score(y_test, y_pred_classes)\n",
        "precision = precision_score(y_test, y_pred_classes)\n",
        "recall = recall_score(y_test, y_pred_classes)\n",
        "# summary viewer\n",
        "print(f\"Accuracy: {acc:.4f}\")\n",
        "print(f\"F1 Score: {f1:.4f}\")\n",
        "print(f\"Precision: {precision:.4f}\")\n",
        "print(f\"Recall: {recall:.4f}\")"
      ]
    }
  ],
  "metadata": {
    "colab": {
      "provenance": []
    },
    "kernelspec": {
      "display_name": "Python 3",
      "name": "python3"
    }
  },
  "nbformat": 4,
  "nbformat_minor": 0
}